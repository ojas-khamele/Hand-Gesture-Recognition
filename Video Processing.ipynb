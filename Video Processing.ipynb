{
 "cells": [
  {
   "cell_type": "code",
   "execution_count": 1,
   "id": "f7f5b3a8",
   "metadata": {},
   "outputs": [
    {
     "name": "stdout",
     "output_type": "stream",
     "text": [
      "['Left Sweep', 'Right Sweep', 'STOP', 'Thumbs Down', 'Thumbs Up']\n"
     ]
    }
   ],
   "source": [
    "import numpy as np\n",
    "import pandas as pd\n",
    "import matplotlib.pyplot as plt\n",
    "import os\n",
    "\n",
    "dataset_path = os.listdir(r\"C:\\Users\\ojask\\OneDrive\\Desktop\\NFT\\train\")\n",
    "label_types = os.listdir(r\"C:\\Users\\ojask\\OneDrive\\Desktop\\NFT\\train\")\n",
    "print(label_types)"
   ]
  },
  {
   "cell_type": "code",
   "execution_count": 2,
   "id": "25002a48",
   "metadata": {},
   "outputs": [
    {
     "name": "stdout",
     "output_type": "stream",
     "text": [
      "           tag                                         video_name\n",
      "0   Left Sweep  C:\\Users\\ojask\\OneDrive\\Desktop\\NFT\\train/Left...\n",
      "1  Right Sweep  C:\\Users\\ojask\\OneDrive\\Desktop\\NFT\\train/Righ...\n",
      "2         STOP  C:\\Users\\ojask\\OneDrive\\Desktop\\NFT\\train/STOP...\n",
      "3  Thumbs Down  C:\\Users\\ojask\\OneDrive\\Desktop\\NFT\\train/Thum...\n",
      "4    Thumbs Up  C:\\Users\\ojask\\OneDrive\\Desktop\\NFT\\train/Thum...\n",
      "           tag                                         video_name\n",
      "0   Left Sweep  C:\\Users\\ojask\\OneDrive\\Desktop\\NFT\\train/Left...\n",
      "1  Right Sweep  C:\\Users\\ojask\\OneDrive\\Desktop\\NFT\\train/Righ...\n",
      "2         STOP  C:\\Users\\ojask\\OneDrive\\Desktop\\NFT\\train/STOP...\n",
      "3  Thumbs Down  C:\\Users\\ojask\\OneDrive\\Desktop\\NFT\\train/Thum...\n",
      "4    Thumbs Up  C:\\Users\\ojask\\OneDrive\\Desktop\\NFT\\train/Thum...\n"
     ]
    }
   ],
   "source": [
    "rooms = []\n",
    "\n",
    "for item in dataset_path:\n",
    "    # Get all the file names\n",
    "    all_rooms = os.listdir(r'C:\\Users\\ojask\\OneDrive\\Desktop\\NFT\\train' + '/' + item)\n",
    "    \n",
    "    # Adding to the rooms list\n",
    "    for room in all_rooms:\n",
    "        rooms.append((item, r'C:\\Users\\ojask\\OneDrive\\Desktop\\NFT\\train' + '/' + item + '/' + room))\n",
    "\n",
    "# Build DataFrame\n",
    "train_df = pd.DataFrame(data=rooms, columns=['tag', 'video_name'])\n",
    "print(train_df.head())\n",
    "print(train_df.tail())"
   ]
  },
  {
   "cell_type": "code",
   "execution_count": 3,
   "id": "90122b02",
   "metadata": {},
   "outputs": [],
   "source": [
    "df = train_df.loc[:,['video_name', 'tag']]\n",
    "df\n",
    "df.to_csv('train.csv')"
   ]
  },
  {
   "cell_type": "code",
   "execution_count": 4,
   "id": "aaed2c51",
   "metadata": {},
   "outputs": [
    {
     "name": "stdout",
     "output_type": "stream",
     "text": [
      "['Left Sweep', 'Right Sweep', 'STOP', 'Thumbs Down', 'Thumbs Up']\n",
      "Types of Activities:  5\n",
      "           tag                                         video_name\n",
      "0   Left Sweep  C:\\Users\\ojask\\OneDrive\\Desktop\\NFT\\train/Left...\n",
      "1  Right Sweep  C:\\Users\\ojask\\OneDrive\\Desktop\\NFT\\train/Righ...\n",
      "2         STOP  C:\\Users\\ojask\\OneDrive\\Desktop\\NFT\\train/STOP...\n",
      "3  Thumbs Down  C:\\Users\\ojask\\OneDrive\\Desktop\\NFT\\train/Thum...\n",
      "4    Thumbs Up  C:\\Users\\ojask\\OneDrive\\Desktop\\NFT\\train/Thum...\n",
      "           tag                                         video_name\n",
      "0   Left Sweep  C:\\Users\\ojask\\OneDrive\\Desktop\\NFT\\train/Left...\n",
      "1  Right Sweep  C:\\Users\\ojask\\OneDrive\\Desktop\\NFT\\train/Righ...\n",
      "2         STOP  C:\\Users\\ojask\\OneDrive\\Desktop\\NFT\\train/STOP...\n",
      "3  Thumbs Down  C:\\Users\\ojask\\OneDrive\\Desktop\\NFT\\train/Thum...\n",
      "4    Thumbs Up  C:\\Users\\ojask\\OneDrive\\Desktop\\NFT\\train/Thum...\n"
     ]
    }
   ],
   "source": [
    "dataset_path = os.listdir(r\"C:\\Users\\ojask\\OneDrive\\Desktop\\NFT\\train\")\n",
    "print(dataset_path)\n",
    "\n",
    "room_types = os.listdir(r\"C:\\Users\\ojask\\OneDrive\\Desktop\\NFT\\train\")\n",
    "print(\"Types of Activities: \", len(dataset_path))\n",
    "\n",
    "rooms = []\n",
    "\n",
    "for item in dataset_path:\n",
    "    # Get all the file names\n",
    "    all_rooms = os.listdir(r'C:\\Users\\ojask\\OneDrive\\Desktop\\NFT\\train' + '/' + item)\n",
    "    \n",
    "    # Adding to the rooms list\n",
    "    for room in all_rooms:\n",
    "        rooms.append((item, r'C:\\Users\\ojask\\OneDrive\\Desktop\\NFT\\train' + '/' + item + '/' + room))\n",
    "\n",
    "# Build DataFrame\n",
    "train_df = pd.DataFrame(data=rooms, columns=['tag', 'video_name'])\n",
    "print(train_df.head())\n",
    "print(train_df.tail())\n",
    "\n",
    "df = train_df.loc[:,['video_name', 'tag']]\n",
    "df\n",
    "df.to_csv('train.csv')"
   ]
  },
  {
   "cell_type": "code",
   "execution_count": 8,
   "id": "cf00977a",
   "metadata": {},
   "outputs": [
    {
     "name": "stdout",
     "output_type": "stream",
     "text": [
      "Collecting git+https://github.com/tensorflow/docs\n",
      "  Cloning https://github.com/tensorflow/docs to c:\\users\\ojask\\appdata\\local\\temp\\pip-req-build-8cvobqdv\n",
      "  Resolved https://github.com/tensorflow/docs to commit 98fa05949ba64f95c4df6565ea915a002a240289\n",
      "  Preparing metadata (setup.py): started\n",
      "  Preparing metadata (setup.py): finished with status 'done'\n",
      "Collecting astor (from tensorflow-docs==2024.7.15.51478)\n",
      "  Obtaining dependency information for astor from https://files.pythonhosted.org/packages/c3/88/97eef84f48fa04fbd6750e62dcceafba6c63c81b7ac1420856c8dcc0a3f9/astor-0.8.1-py2.py3-none-any.whl.metadata\n",
      "  Downloading astor-0.8.1-py2.py3-none-any.whl.metadata (4.2 kB)\n",
      "Requirement already satisfied: absl-py in c:\\users\\ojask\\anaconda3\\lib\\site-packages (from tensorflow-docs==2024.7.15.51478) (2.1.0)\n",
      "Requirement already satisfied: jinja2 in c:\\users\\ojask\\anaconda3\\lib\\site-packages (from tensorflow-docs==2024.7.15.51478) (3.1.2)\n",
      "Requirement already satisfied: nbformat in c:\\users\\ojask\\anaconda3\\lib\\site-packages (from tensorflow-docs==2024.7.15.51478) (5.9.2)\n",
      "Requirement already satisfied: protobuf>=3.12 in c:\\users\\ojask\\appdata\\roaming\\python\\python311\\site-packages (from tensorflow-docs==2024.7.15.51478) (4.25.4)\n",
      "Requirement already satisfied: pyyaml in c:\\users\\ojask\\anaconda3\\lib\\site-packages (from tensorflow-docs==2024.7.15.51478) (6.0)\n",
      "Requirement already satisfied: MarkupSafe>=2.0 in c:\\users\\ojask\\anaconda3\\lib\\site-packages (from jinja2->tensorflow-docs==2024.7.15.51478) (2.1.1)\n",
      "Requirement already satisfied: fastjsonschema in c:\\users\\ojask\\anaconda3\\lib\\site-packages (from nbformat->tensorflow-docs==2024.7.15.51478) (2.16.2)\n",
      "Requirement already satisfied: jsonschema>=2.6 in c:\\users\\ojask\\anaconda3\\lib\\site-packages (from nbformat->tensorflow-docs==2024.7.15.51478) (4.17.3)\n",
      "Requirement already satisfied: jupyter-core in c:\\users\\ojask\\anaconda3\\lib\\site-packages (from nbformat->tensorflow-docs==2024.7.15.51478) (5.3.0)\n",
      "Requirement already satisfied: traitlets>=5.1 in c:\\users\\ojask\\anaconda3\\lib\\site-packages (from nbformat->tensorflow-docs==2024.7.15.51478) (5.7.1)\n",
      "Requirement already satisfied: attrs>=17.4.0 in c:\\users\\ojask\\anaconda3\\lib\\site-packages (from jsonschema>=2.6->nbformat->tensorflow-docs==2024.7.15.51478) (22.1.0)\n",
      "Requirement already satisfied: pyrsistent!=0.17.0,!=0.17.1,!=0.17.2,>=0.14.0 in c:\\users\\ojask\\anaconda3\\lib\\site-packages (from jsonschema>=2.6->nbformat->tensorflow-docs==2024.7.15.51478) (0.18.0)\n",
      "Requirement already satisfied: platformdirs>=2.5 in c:\\users\\ojask\\anaconda3\\lib\\site-packages (from jupyter-core->nbformat->tensorflow-docs==2024.7.15.51478) (3.10.0)\n",
      "Requirement already satisfied: pywin32>=300 in c:\\users\\ojask\\anaconda3\\lib\\site-packages (from jupyter-core->nbformat->tensorflow-docs==2024.7.15.51478) (305.1)\n",
      "Downloading astor-0.8.1-py2.py3-none-any.whl (27 kB)\n",
      "Building wheels for collected packages: tensorflow-docs\n",
      "  Building wheel for tensorflow-docs (setup.py): started\n",
      "  Building wheel for tensorflow-docs (setup.py): finished with status 'done'\n",
      "  Created wheel for tensorflow-docs: filename=tensorflow_docs-2024.7.15.51478-py3-none-any.whl size=183998 sha256=91464561604bef7475f32900766ef0b08a26d399da5eac13c27e0b7acefbd170\n",
      "  Stored in directory: C:\\Users\\ojask\\AppData\\Local\\Temp\\pip-ephem-wheel-cache-rbomv3xu\\wheels\\34\\53\\89\\3db54cf97ce0f0261aaab3fdc12a847ea0879d34edf373e2c5\n",
      "Successfully built tensorflow-docs\n",
      "Installing collected packages: astor, tensorflow-docs\n",
      "Successfully installed astor-0.8.1 tensorflow-docs-2024.7.15.51478\n"
     ]
    },
    {
     "name": "stderr",
     "output_type": "stream",
     "text": [
      "  Running command git clone --filter=blob:none --quiet https://github.com/tensorflow/docs 'C:\\Users\\ojask\\AppData\\Local\\Temp\\pip-req-build-8cvobqdv'\n"
     ]
    }
   ],
   "source": [
    "!pip install git+https://github.com/tensorflow/docs"
   ]
  },
  {
   "cell_type": "code",
   "execution_count": 10,
   "id": "a2db0475",
   "metadata": {},
   "outputs": [
    {
     "name": "stdout",
     "output_type": "stream",
     "text": [
      "Collecting imutils\n",
      "  Downloading imutils-0.5.4.tar.gz (17 kB)\n",
      "  Preparing metadata (setup.py): started\n",
      "  Preparing metadata (setup.py): finished with status 'done'\n",
      "Building wheels for collected packages: imutils\n",
      "  Building wheel for imutils (setup.py): started\n",
      "  Building wheel for imutils (setup.py): finished with status 'done'\n",
      "  Created wheel for imutils: filename=imutils-0.5.4-py3-none-any.whl size=25854 sha256=aafa4cda7c932e028aa630197da108f3ce8d214f364e7583404d4e8caa60e12b\n",
      "  Stored in directory: c:\\users\\ojask\\appdata\\local\\pip\\cache\\wheels\\31\\d0\\2c\\87ce38f6052879e5b7b18f0f8b4a10ad2a9d210e908d449f16\n",
      "Successfully built imutils\n",
      "Installing collected packages: imutils\n",
      "Successfully installed imutils-0.5.4\n",
      "Note: you may need to restart the kernel to use updated packages.\n"
     ]
    }
   ],
   "source": [
    "pip install imutils"
   ]
  },
  {
   "cell_type": "code",
   "execution_count": 5,
   "id": "dd73f3f0",
   "metadata": {},
   "outputs": [],
   "source": [
    "from tensorflow_docs.vis import embed\n",
    "from tensorflow import keras\n",
    "from imutils import paths\n",
    "\n",
    "import matplotlib.pyplot as plt\n",
    "import tensorflow as tf\n",
    "import pandas as pd\n",
    "import numpy as np\n",
    "import imageio\n",
    "import cv2\n",
    "import os"
   ]
  },
  {
   "cell_type": "code",
   "execution_count": 6,
   "id": "fd096480",
   "metadata": {},
   "outputs": [],
   "source": [
    "gpus = tf.config.experimental.list_physical_devices('GPU')\n",
    "if gpus:\n",
    "    try:\n",
    "        ty.config.experimental.set_virtual_device_configuration(\n",
    "        gpus[0],[tf.config.experimental.VirtualDeviceConfiguration(memory_limit=5120)])\n",
    "    except RuntimeError as e:\n",
    "        print(e)"
   ]
  },
  {
   "cell_type": "code",
   "execution_count": 7,
   "id": "1a463b9d",
   "metadata": {},
   "outputs": [
    {
     "name": "stdout",
     "output_type": "stream",
     "text": [
      "total videos for training: 5\n",
      "total videos for testing: 5\n"
     ]
    },
    {
     "data": {
      "text/html": [
       "<div>\n",
       "<style scoped>\n",
       "    .dataframe tbody tr th:only-of-type {\n",
       "        vertical-align: middle;\n",
       "    }\n",
       "\n",
       "    .dataframe tbody tr th {\n",
       "        vertical-align: top;\n",
       "    }\n",
       "\n",
       "    .dataframe thead th {\n",
       "        text-align: right;\n",
       "    }\n",
       "</style>\n",
       "<table border=\"1\" class=\"dataframe\">\n",
       "  <thead>\n",
       "    <tr style=\"text-align: right;\">\n",
       "      <th></th>\n",
       "      <th>Unnamed: 0</th>\n",
       "      <th>video_name</th>\n",
       "      <th>tag</th>\n",
       "    </tr>\n",
       "  </thead>\n",
       "  <tbody>\n",
       "    <tr>\n",
       "      <th>0</th>\n",
       "      <td>0</td>\n",
       "      <td>C:\\Users\\ojask\\OneDrive\\Desktop\\NFT\\train/Left...</td>\n",
       "      <td>Left Sweep</td>\n",
       "    </tr>\n",
       "    <tr>\n",
       "      <th>4</th>\n",
       "      <td>4</td>\n",
       "      <td>C:\\Users\\ojask\\OneDrive\\Desktop\\NFT\\train/Thum...</td>\n",
       "      <td>Thumbs Up</td>\n",
       "    </tr>\n",
       "  </tbody>\n",
       "</table>\n",
       "</div>"
      ],
      "text/plain": [
       "   Unnamed: 0                                         video_name         tag\n",
       "0           0  C:\\Users\\ojask\\OneDrive\\Desktop\\NFT\\train/Left...  Left Sweep\n",
       "4           4  C:\\Users\\ojask\\OneDrive\\Desktop\\NFT\\train/Thum...   Thumbs Up"
      ]
     },
     "execution_count": 7,
     "metadata": {},
     "output_type": "execute_result"
    }
   ],
   "source": [
    "train_df = pd.read_csv(\"train.csv\")\n",
    "test_df = pd.read_csv(\"test.csv\")\n",
    "\n",
    "print(f\"total videos for training: {len(train_df)}\")\n",
    "print(f\"total videos for testing: {len(test_df)}\")\n",
    "\n",
    "train_df.sample(2)"
   ]
  },
  {
   "cell_type": "code",
   "execution_count": 8,
   "id": "02bb5ea7",
   "metadata": {},
   "outputs": [],
   "source": [
    "IMG_SIZE = 224\n",
    "\n",
    "def crop_center_square(frame):\n",
    "    y, x = frame.shape[0:2]\n",
    "    min_dim = min(x,y)\n",
    "    start_x = (x//2) - (min_dim//2)\n",
    "    start_y = (y//2) - (min_dim//2)\n",
    "    return frame[start_y : start_y + min_dim, start_x : start_x + min_dim]\n",
    "\n",
    "def load_video(path, max_frames = 0, resize = (IMG_SIZE, IMG_SIZE)):\n",
    "    cap = cv2.VideoCapture(path)\n",
    "    frames = []\n",
    "    try:\n",
    "        while True:\n",
    "            ret, frame = cap.read()\n",
    "            if not ret:\n",
    "                break\n",
    "            frame = crop_center_square(frame)\n",
    "            frame = cv2.resize(frame, resize)\n",
    "            frame = frame[:, :, [2, 1, 0]]\n",
    "            frame.append(frame)\n",
    "            \n",
    "            if len(frames) == max_frames:\n",
    "                break\n",
    "    finally:\n",
    "        cap.release()\n",
    "    return np.array(frames)"
   ]
  },
  {
   "cell_type": "code",
   "execution_count": 9,
   "id": "138bea3c",
   "metadata": {},
   "outputs": [],
   "source": [
    "def build_feature_extractor():\n",
    "    feature_extractor = keras.applications.InceptionV3(\n",
    "        weights=\"imagenet\",\n",
    "        include_top=False,\n",
    "        pooling=\"avg\",\n",
    "        input_shape=(IMG_SIZE, IMG_SIZE, 3),\n",
    "    )\n",
    "    \n",
    "    preprocess_input = keras.applications.inception_v3.preprocess_input  # Corrected to 'applications'\n",
    "    \n",
    "    inputs = keras.Input((IMG_SIZE, IMG_SIZE, 3))\n",
    "    preprocessed = preprocess_input(inputs)\n",
    "    \n",
    "    outputs = feature_extractor(preprocessed)\n",
    "    return keras.Model(inputs, outputs, name=\"feature_extractor\")\n",
    "\n",
    "feature_extractor = build_feature_extractor()\n"
   ]
  },
  {
   "cell_type": "code",
   "execution_count": 10,
   "id": "cc0b961a",
   "metadata": {},
   "outputs": [
    {
     "name": "stdout",
     "output_type": "stream",
     "text": [
      "['Left Sweep', 'Right Sweep', 'STOP', 'Thumbs Down', 'Thumbs Up']\n"
     ]
    },
    {
     "data": {
      "text/plain": [
       "array([[0],\n",
       "       [1],\n",
       "       [2],\n",
       "       [3],\n",
       "       [4]], dtype=int64)"
      ]
     },
     "execution_count": 10,
     "metadata": {},
     "output_type": "execute_result"
    }
   ],
   "source": [
    "label_processor = keras.layers.StringLookup(num_oov_indices=0, vocabulary=np.unique(train_df[\"tag\"]))\n",
    "print(label_processor.get_vocabulary())\n",
    "\n",
    "labels = train_df[\"tag\"].values\n",
    "labels = label_processor(labels[..., None]).numpy()\n",
    "labels"
   ]
  },
  {
   "cell_type": "code",
   "execution_count": 17,
   "id": "00aeb06d",
   "metadata": {},
   "outputs": [],
   "source": [
    "IMG_SIZE = 224\n",
    "BATCH_SIZE = 64\n",
    "EPOCHS = 100\n",
    "\n",
    "MAX_SEQ_LENGTH = 30\n",
    "NUM_FEATURES = 2048"
   ]
  },
  {
   "cell_type": "code",
   "execution_count": 18,
   "id": "a7f91b82",
   "metadata": {},
   "outputs": [
    {
     "name": "stdout",
     "output_type": "stream",
     "text": [
      "Frame features in train set: (5, 30, 2048)\n",
      "Frame masks in train set: (5, 30)\n",
      "train_labels in train set: (5, 1)\n",
      "test_labels in train set: (5, 1)\n"
     ]
    }
   ],
   "source": [
    "def prepare_all_videos(df, root_dir):\n",
    "    num_samples = len(df)\n",
    "    video_paths = df[\"video_name\"].values.tolist()\n",
    "    \n",
    "    ##take all classlabels from train_df column named 'tag' and store in labels\n",
    "    labels = df[\"tag\"].values\n",
    "    \n",
    "    #convert classlabels to label encoding\n",
    "    labels = label_processor(labels[..., None]).numpy()\n",
    "\n",
    "    # `frame_masks` and `frame_features` are what we will feed to our sequence model.\n",
    "    # `frame_masks` will contain a bunch of booleans denoting if a timestep is\n",
    "    # masked with padding or not.\n",
    "    frame_masks = np.zeros(shape=(num_samples, MAX_SEQ_LENGTH), dtype=\"bool\") # 145,20\n",
    "    frame_features = np.zeros(shape=(num_samples, MAX_SEQ_LENGTH, NUM_FEATURES), dtype=\"float32\") #145,20,2048\n",
    "\n",
    "    # For each video.\n",
    "    for idx, path in enumerate(video_paths):\n",
    "        # Gather all its frames and add a batch dimension.\n",
    "        frames = load_video(os.path.join(root_dir, path))\n",
    "        frames = frames[None, ...]\n",
    "\n",
    "        # Initialize placeholders to store the masks and features of the current video.\n",
    "        temp_frame_mask = np.zeros(shape=(1, MAX_SEQ_LENGTH,), dtype=\"bool\")\n",
    "        temp_frame_features = np.zeros(\n",
    "            shape=(1, MAX_SEQ_LENGTH, NUM_FEATURES), dtype=\"float32\"\n",
    "        )\n",
    "\n",
    "        # Extract features from the frames of the current video.\n",
    "        for i, batch in enumerate(frames):\n",
    "            video_length = batch.shape[0]\n",
    "            length = min(MAX_SEQ_LENGTH, video_length)\n",
    "            for j in range(length):\n",
    "                temp_frame_features[i, j, :] = feature_extractor.predict(\n",
    "                    batch[None, j, :]\n",
    "                )\n",
    "            temp_frame_mask[i, :length] = 1  # 1 = not masked, 0 = masked\n",
    "\n",
    "        frame_features[idx,] = temp_frame_features.squeeze()\n",
    "        frame_masks[idx,] = temp_frame_mask.squeeze()\n",
    "\n",
    "    return (frame_features, frame_masks), labels\n",
    "\n",
    "\n",
    "train_data, train_labels = prepare_all_videos(train_df, \"train\")\n",
    "test_data, test_labels = prepare_all_videos(test_df, \"test\")\n",
    "\n",
    "print(f\"Frame features in train set: {train_data[0].shape}\")\n",
    "print(f\"Frame masks in train set: {train_data[1].shape}\")\n",
    "\n",
    "\n",
    "\n",
    "print(f\"train_labels in train set: {train_labels.shape}\")\n",
    "\n",
    "print(f\"test_labels in train set: {test_labels.shape}\")\n",
    "\n",
    "# MAX_SEQ_LENGTH = 30, NUM_FEATURES = 2048. We have defined this above under hyper parameters"
   ]
  },
  {
   "cell_type": "code",
   "execution_count": 22,
   "id": "9b4a1294",
   "metadata": {},
   "outputs": [
    {
     "name": "stdout",
     "output_type": "stream",
     "text": [
      "Epoch 1/30\n",
      "\u001b[1m1/1\u001b[0m \u001b[32m━━━━━━━━━━━━━━━━━━━━\u001b[0m\u001b[37m\u001b[0m \u001b[1m0s\u001b[0m 9s/step - accuracy: 0.3333 - loss: 1.6094\n",
      "Epoch 1: val_loss improved from inf to 1.61064, saving model to C:\\Users\\ojask\\OneDrive\\Desktop\\NFT\\best_model.weights.h5\n",
      "\u001b[1m1/1\u001b[0m \u001b[32m━━━━━━━━━━━━━━━━━━━━\u001b[0m\u001b[37m\u001b[0m \u001b[1m10s\u001b[0m 10s/step - accuracy: 0.3333 - loss: 1.6094 - val_accuracy: 0.0000e+00 - val_loss: 1.6106\n",
      "Epoch 2/30\n",
      "\u001b[1m1/1\u001b[0m \u001b[32m━━━━━━━━━━━━━━━━━━━━\u001b[0m\u001b[37m\u001b[0m \u001b[1m0s\u001b[0m 103ms/step - accuracy: 0.3333 - loss: 1.6086\n",
      "Epoch 2: val_loss did not improve from 1.61064\n",
      "\u001b[1m1/1\u001b[0m \u001b[32m━━━━━━━━━━━━━━━━━━━━\u001b[0m\u001b[37m\u001b[0m \u001b[1m0s\u001b[0m 183ms/step - accuracy: 0.3333 - loss: 1.6086 - val_accuracy: 0.0000e+00 - val_loss: 1.6118\n",
      "Epoch 3/30\n",
      "\u001b[1m1/1\u001b[0m \u001b[32m━━━━━━━━━━━━━━━━━━━━\u001b[0m\u001b[37m\u001b[0m \u001b[1m0s\u001b[0m 94ms/step - accuracy: 0.3333 - loss: 1.6078\n",
      "Epoch 3: val_loss did not improve from 1.61064\n",
      "\u001b[1m1/1\u001b[0m \u001b[32m━━━━━━━━━━━━━━━━━━━━\u001b[0m\u001b[37m\u001b[0m \u001b[1m0s\u001b[0m 161ms/step - accuracy: 0.3333 - loss: 1.6078 - val_accuracy: 0.0000e+00 - val_loss: 1.6130\n",
      "Epoch 4/30\n",
      "\u001b[1m1/1\u001b[0m \u001b[32m━━━━━━━━━━━━━━━━━━━━\u001b[0m\u001b[37m\u001b[0m \u001b[1m0s\u001b[0m 79ms/step - accuracy: 0.3333 - loss: 1.6070\n",
      "Epoch 4: val_loss did not improve from 1.61064\n",
      "\u001b[1m1/1\u001b[0m \u001b[32m━━━━━━━━━━━━━━━━━━━━\u001b[0m\u001b[37m\u001b[0m \u001b[1m0s\u001b[0m 163ms/step - accuracy: 0.3333 - loss: 1.6070 - val_accuracy: 0.0000e+00 - val_loss: 1.6142\n",
      "Epoch 5/30\n",
      "\u001b[1m1/1\u001b[0m \u001b[32m━━━━━━━━━━━━━━━━━━━━\u001b[0m\u001b[37m\u001b[0m \u001b[1m0s\u001b[0m 87ms/step - accuracy: 0.3333 - loss: 1.6062\n",
      "Epoch 5: val_loss did not improve from 1.61064\n",
      "\u001b[1m1/1\u001b[0m \u001b[32m━━━━━━━━━━━━━━━━━━━━\u001b[0m\u001b[37m\u001b[0m \u001b[1m0s\u001b[0m 160ms/step - accuracy: 0.3333 - loss: 1.6062 - val_accuracy: 0.0000e+00 - val_loss: 1.6154\n",
      "Epoch 6/30\n",
      "\u001b[1m1/1\u001b[0m \u001b[32m━━━━━━━━━━━━━━━━━━━━\u001b[0m\u001b[37m\u001b[0m \u001b[1m0s\u001b[0m 76ms/step - accuracy: 0.3333 - loss: 1.6055\n",
      "Epoch 6: val_loss did not improve from 1.61064\n",
      "\u001b[1m1/1\u001b[0m \u001b[32m━━━━━━━━━━━━━━━━━━━━\u001b[0m\u001b[37m\u001b[0m \u001b[1m0s\u001b[0m 158ms/step - accuracy: 0.3333 - loss: 1.6055 - val_accuracy: 0.0000e+00 - val_loss: 1.6167\n",
      "Epoch 7/30\n",
      "\u001b[1m1/1\u001b[0m \u001b[32m━━━━━━━━━━━━━━━━━━━━\u001b[0m\u001b[37m\u001b[0m \u001b[1m0s\u001b[0m 97ms/step - accuracy: 0.3333 - loss: 1.6047\n",
      "Epoch 7: val_loss did not improve from 1.61064\n",
      "\u001b[1m1/1\u001b[0m \u001b[32m━━━━━━━━━━━━━━━━━━━━\u001b[0m\u001b[37m\u001b[0m \u001b[1m0s\u001b[0m 190ms/step - accuracy: 0.3333 - loss: 1.6047 - val_accuracy: 0.0000e+00 - val_loss: 1.6179\n",
      "Epoch 8/30\n",
      "\u001b[1m1/1\u001b[0m \u001b[32m━━━━━━━━━━━━━━━━━━━━\u001b[0m\u001b[37m\u001b[0m \u001b[1m0s\u001b[0m 93ms/step - accuracy: 0.3333 - loss: 1.6039\n",
      "Epoch 8: val_loss did not improve from 1.61064\n",
      "\u001b[1m1/1\u001b[0m \u001b[32m━━━━━━━━━━━━━━━━━━━━\u001b[0m\u001b[37m\u001b[0m \u001b[1m0s\u001b[0m 168ms/step - accuracy: 0.3333 - loss: 1.6039 - val_accuracy: 0.0000e+00 - val_loss: 1.6191\n",
      "Epoch 9/30\n",
      "\u001b[1m1/1\u001b[0m \u001b[32m━━━━━━━━━━━━━━━━━━━━\u001b[0m\u001b[37m\u001b[0m \u001b[1m0s\u001b[0m 99ms/step - accuracy: 0.3333 - loss: 1.6031\n",
      "Epoch 9: val_loss did not improve from 1.61064\n",
      "\u001b[1m1/1\u001b[0m \u001b[32m━━━━━━━━━━━━━━━━━━━━\u001b[0m\u001b[37m\u001b[0m \u001b[1m0s\u001b[0m 167ms/step - accuracy: 0.3333 - loss: 1.6031 - val_accuracy: 0.0000e+00 - val_loss: 1.6203\n",
      "Epoch 10/30\n",
      "\u001b[1m1/1\u001b[0m \u001b[32m━━━━━━━━━━━━━━━━━━━━\u001b[0m\u001b[37m\u001b[0m \u001b[1m0s\u001b[0m 106ms/step - accuracy: 0.3333 - loss: 1.6023\n",
      "Epoch 10: val_loss did not improve from 1.61064\n",
      "\u001b[1m1/1\u001b[0m \u001b[32m━━━━━━━━━━━━━━━━━━━━\u001b[0m\u001b[37m\u001b[0m \u001b[1m0s\u001b[0m 180ms/step - accuracy: 0.3333 - loss: 1.6023 - val_accuracy: 0.0000e+00 - val_loss: 1.6215\n",
      "Epoch 11/30\n",
      "\u001b[1m1/1\u001b[0m \u001b[32m━━━━━━━━━━━━━━━━━━━━\u001b[0m\u001b[37m\u001b[0m \u001b[1m0s\u001b[0m 85ms/step - accuracy: 0.3333 - loss: 1.6015\n",
      "Epoch 11: val_loss did not improve from 1.61064\n",
      "\u001b[1m1/1\u001b[0m \u001b[32m━━━━━━━━━━━━━━━━━━━━\u001b[0m\u001b[37m\u001b[0m \u001b[1m0s\u001b[0m 166ms/step - accuracy: 0.3333 - loss: 1.6015 - val_accuracy: 0.0000e+00 - val_loss: 1.6227\n",
      "Epoch 12/30\n",
      "\u001b[1m1/1\u001b[0m \u001b[32m━━━━━━━━━━━━━━━━━━━━\u001b[0m\u001b[37m\u001b[0m \u001b[1m0s\u001b[0m 94ms/step - accuracy: 0.3333 - loss: 1.6007\n",
      "Epoch 12: val_loss did not improve from 1.61064\n",
      "\u001b[1m1/1\u001b[0m \u001b[32m━━━━━━━━━━━━━━━━━━━━\u001b[0m\u001b[37m\u001b[0m \u001b[1m0s\u001b[0m 180ms/step - accuracy: 0.3333 - loss: 1.6007 - val_accuracy: 0.0000e+00 - val_loss: 1.6239\n",
      "Epoch 13/30\n",
      "\u001b[1m1/1\u001b[0m \u001b[32m━━━━━━━━━━━━━━━━━━━━\u001b[0m\u001b[37m\u001b[0m \u001b[1m0s\u001b[0m 87ms/step - accuracy: 0.3333 - loss: 1.5999\n",
      "Epoch 13: val_loss did not improve from 1.61064\n",
      "\u001b[1m1/1\u001b[0m \u001b[32m━━━━━━━━━━━━━━━━━━━━\u001b[0m\u001b[37m\u001b[0m \u001b[1m0s\u001b[0m 170ms/step - accuracy: 0.3333 - loss: 1.5999 - val_accuracy: 0.0000e+00 - val_loss: 1.6251\n",
      "Epoch 14/30\n",
      "\u001b[1m1/1\u001b[0m \u001b[32m━━━━━━━━━━━━━━━━━━━━\u001b[0m\u001b[37m\u001b[0m \u001b[1m0s\u001b[0m 89ms/step - accuracy: 0.3333 - loss: 1.5991\n",
      "Epoch 14: val_loss did not improve from 1.61064\n",
      "\u001b[1m1/1\u001b[0m \u001b[32m━━━━━━━━━━━━━━━━━━━━\u001b[0m\u001b[37m\u001b[0m \u001b[1m0s\u001b[0m 171ms/step - accuracy: 0.3333 - loss: 1.5991 - val_accuracy: 0.0000e+00 - val_loss: 1.6263\n",
      "Epoch 15/30\n",
      "\u001b[1m1/1\u001b[0m \u001b[32m━━━━━━━━━━━━━━━━━━━━\u001b[0m\u001b[37m\u001b[0m \u001b[1m0s\u001b[0m 82ms/step - accuracy: 0.3333 - loss: 1.5983\n",
      "Epoch 15: val_loss did not improve from 1.61064\n",
      "\u001b[1m1/1\u001b[0m \u001b[32m━━━━━━━━━━━━━━━━━━━━\u001b[0m\u001b[37m\u001b[0m \u001b[1m0s\u001b[0m 159ms/step - accuracy: 0.3333 - loss: 1.5983 - val_accuracy: 0.0000e+00 - val_loss: 1.6275\n",
      "Epoch 16/30\n",
      "\u001b[1m1/1\u001b[0m \u001b[32m━━━━━━━━━━━━━━━━━━━━\u001b[0m\u001b[37m\u001b[0m \u001b[1m0s\u001b[0m 92ms/step - accuracy: 0.3333 - loss: 1.5976\n",
      "Epoch 16: val_loss did not improve from 1.61064\n",
      "\u001b[1m1/1\u001b[0m \u001b[32m━━━━━━━━━━━━━━━━━━━━\u001b[0m\u001b[37m\u001b[0m \u001b[1m0s\u001b[0m 173ms/step - accuracy: 0.3333 - loss: 1.5976 - val_accuracy: 0.0000e+00 - val_loss: 1.6287\n",
      "Epoch 17/30\n",
      "\u001b[1m1/1\u001b[0m \u001b[32m━━━━━━━━━━━━━━━━━━━━\u001b[0m\u001b[37m\u001b[0m \u001b[1m0s\u001b[0m 96ms/step - accuracy: 0.3333 - loss: 1.5968\n",
      "Epoch 17: val_loss did not improve from 1.61064\n",
      "\u001b[1m1/1\u001b[0m \u001b[32m━━━━━━━━━━━━━━━━━━━━\u001b[0m\u001b[37m\u001b[0m \u001b[1m0s\u001b[0m 170ms/step - accuracy: 0.3333 - loss: 1.5968 - val_accuracy: 0.0000e+00 - val_loss: 1.6300\n",
      "Epoch 18/30\n",
      "\u001b[1m1/1\u001b[0m \u001b[32m━━━━━━━━━━━━━━━━━━━━\u001b[0m\u001b[37m\u001b[0m \u001b[1m0s\u001b[0m 99ms/step - accuracy: 0.3333 - loss: 1.5960\n",
      "Epoch 18: val_loss did not improve from 1.61064\n",
      "\u001b[1m1/1\u001b[0m \u001b[32m━━━━━━━━━━━━━━━━━━━━\u001b[0m\u001b[37m\u001b[0m \u001b[1m0s\u001b[0m 169ms/step - accuracy: 0.3333 - loss: 1.5960 - val_accuracy: 0.0000e+00 - val_loss: 1.6312\n",
      "Epoch 19/30\n",
      "\u001b[1m1/1\u001b[0m \u001b[32m━━━━━━━━━━━━━━━━━━━━\u001b[0m\u001b[37m\u001b[0m \u001b[1m0s\u001b[0m 88ms/step - accuracy: 0.3333 - loss: 1.5952\n",
      "Epoch 19: val_loss did not improve from 1.61064\n",
      "\u001b[1m1/1\u001b[0m \u001b[32m━━━━━━━━━━━━━━━━━━━━\u001b[0m\u001b[37m\u001b[0m \u001b[1m0s\u001b[0m 161ms/step - accuracy: 0.3333 - loss: 1.5952 - val_accuracy: 0.0000e+00 - val_loss: 1.6324\n",
      "Epoch 20/30\n",
      "\u001b[1m1/1\u001b[0m \u001b[32m━━━━━━━━━━━━━━━━━━━━\u001b[0m\u001b[37m\u001b[0m \u001b[1m0s\u001b[0m 94ms/step - accuracy: 0.3333 - loss: 1.5944\n",
      "Epoch 20: val_loss did not improve from 1.61064\n",
      "\u001b[1m1/1\u001b[0m \u001b[32m━━━━━━━━━━━━━━━━━━━━\u001b[0m\u001b[37m\u001b[0m \u001b[1m0s\u001b[0m 167ms/step - accuracy: 0.3333 - loss: 1.5944 - val_accuracy: 0.0000e+00 - val_loss: 1.6336\n",
      "Epoch 21/30\n",
      "\u001b[1m1/1\u001b[0m \u001b[32m━━━━━━━━━━━━━━━━━━━━\u001b[0m\u001b[37m\u001b[0m \u001b[1m0s\u001b[0m 104ms/step - accuracy: 0.3333 - loss: 1.5937\n",
      "Epoch 21: val_loss did not improve from 1.61064\n",
      "\u001b[1m1/1\u001b[0m \u001b[32m━━━━━━━━━━━━━━━━━━━━\u001b[0m\u001b[37m\u001b[0m \u001b[1m0s\u001b[0m 185ms/step - accuracy: 0.3333 - loss: 1.5937 - val_accuracy: 0.0000e+00 - val_loss: 1.6348\n",
      "Epoch 22/30\n",
      "\u001b[1m1/1\u001b[0m \u001b[32m━━━━━━━━━━━━━━━━━━━━\u001b[0m\u001b[37m\u001b[0m \u001b[1m0s\u001b[0m 87ms/step - accuracy: 0.3333 - loss: 1.5929\n",
      "Epoch 22: val_loss did not improve from 1.61064\n",
      "\u001b[1m1/1\u001b[0m \u001b[32m━━━━━━━━━━━━━━━━━━━━\u001b[0m\u001b[37m\u001b[0m \u001b[1m0s\u001b[0m 162ms/step - accuracy: 0.3333 - loss: 1.5929 - val_accuracy: 0.0000e+00 - val_loss: 1.6360\n",
      "Epoch 23/30\n",
      "\u001b[1m1/1\u001b[0m \u001b[32m━━━━━━━━━━━━━━━━━━━━\u001b[0m\u001b[37m\u001b[0m \u001b[1m0s\u001b[0m 90ms/step - accuracy: 0.3333 - loss: 1.5921\n",
      "Epoch 23: val_loss did not improve from 1.61064\n",
      "\u001b[1m1/1\u001b[0m \u001b[32m━━━━━━━━━━━━━━━━━━━━\u001b[0m\u001b[37m\u001b[0m \u001b[1m0s\u001b[0m 175ms/step - accuracy: 0.3333 - loss: 1.5921 - val_accuracy: 0.0000e+00 - val_loss: 1.6372\n",
      "Epoch 24/30\n",
      "\u001b[1m1/1\u001b[0m \u001b[32m━━━━━━━━━━━━━━━━━━━━\u001b[0m\u001b[37m\u001b[0m \u001b[1m0s\u001b[0m 109ms/step - accuracy: 0.3333 - loss: 1.5913\n",
      "Epoch 24: val_loss did not improve from 1.61064\n",
      "\u001b[1m1/1\u001b[0m \u001b[32m━━━━━━━━━━━━━━━━━━━━\u001b[0m\u001b[37m\u001b[0m \u001b[1m0s\u001b[0m 197ms/step - accuracy: 0.3333 - loss: 1.5913 - val_accuracy: 0.0000e+00 - val_loss: 1.6385\n",
      "Epoch 25/30\n",
      "\u001b[1m1/1\u001b[0m \u001b[32m━━━━━━━━━━━━━━━━━━━━\u001b[0m\u001b[37m\u001b[0m \u001b[1m0s\u001b[0m 82ms/step - accuracy: 0.3333 - loss: 1.5906\n",
      "Epoch 25: val_loss did not improve from 1.61064\n",
      "\u001b[1m1/1\u001b[0m \u001b[32m━━━━━━━━━━━━━━━━━━━━\u001b[0m\u001b[37m\u001b[0m \u001b[1m0s\u001b[0m 158ms/step - accuracy: 0.3333 - loss: 1.5906 - val_accuracy: 0.0000e+00 - val_loss: 1.6397\n",
      "Epoch 26/30\n",
      "\u001b[1m1/1\u001b[0m \u001b[32m━━━━━━━━━━━━━━━━━━━━\u001b[0m\u001b[37m\u001b[0m \u001b[1m0s\u001b[0m 96ms/step - accuracy: 0.3333 - loss: 1.5898\n",
      "Epoch 26: val_loss did not improve from 1.61064\n"
     ]
    },
    {
     "name": "stdout",
     "output_type": "stream",
     "text": [
      "\u001b[1m1/1\u001b[0m \u001b[32m━━━━━━━━━━━━━━━━━━━━\u001b[0m\u001b[37m\u001b[0m \u001b[1m0s\u001b[0m 171ms/step - accuracy: 0.3333 - loss: 1.5898 - val_accuracy: 0.0000e+00 - val_loss: 1.6409\n",
      "Epoch 27/30\n",
      "\u001b[1m1/1\u001b[0m \u001b[32m━━━━━━━━━━━━━━━━━━━━\u001b[0m\u001b[37m\u001b[0m \u001b[1m0s\u001b[0m 81ms/step - accuracy: 0.3333 - loss: 1.5890\n",
      "Epoch 27: val_loss did not improve from 1.61064\n",
      "\u001b[1m1/1\u001b[0m \u001b[32m━━━━━━━━━━━━━━━━━━━━\u001b[0m\u001b[37m\u001b[0m \u001b[1m0s\u001b[0m 156ms/step - accuracy: 0.3333 - loss: 1.5890 - val_accuracy: 0.0000e+00 - val_loss: 1.6421\n",
      "Epoch 28/30\n",
      "\u001b[1m1/1\u001b[0m \u001b[32m━━━━━━━━━━━━━━━━━━━━\u001b[0m\u001b[37m\u001b[0m \u001b[1m0s\u001b[0m 85ms/step - accuracy: 0.3333 - loss: 1.5882\n",
      "Epoch 28: val_loss did not improve from 1.61064\n",
      "\u001b[1m1/1\u001b[0m \u001b[32m━━━━━━━━━━━━━━━━━━━━\u001b[0m\u001b[37m\u001b[0m \u001b[1m0s\u001b[0m 149ms/step - accuracy: 0.3333 - loss: 1.5882 - val_accuracy: 0.0000e+00 - val_loss: 1.6433\n",
      "Epoch 29/30\n",
      "\u001b[1m1/1\u001b[0m \u001b[32m━━━━━━━━━━━━━━━━━━━━\u001b[0m\u001b[37m\u001b[0m \u001b[1m0s\u001b[0m 84ms/step - accuracy: 0.3333 - loss: 1.5875\n",
      "Epoch 29: val_loss did not improve from 1.61064\n",
      "\u001b[1m1/1\u001b[0m \u001b[32m━━━━━━━━━━━━━━━━━━━━\u001b[0m\u001b[37m\u001b[0m \u001b[1m0s\u001b[0m 161ms/step - accuracy: 0.3333 - loss: 1.5875 - val_accuracy: 0.0000e+00 - val_loss: 1.6445\n",
      "Epoch 30/30\n",
      "\u001b[1m1/1\u001b[0m \u001b[32m━━━━━━━━━━━━━━━━━━━━\u001b[0m\u001b[37m\u001b[0m \u001b[1m0s\u001b[0m 92ms/step - accuracy: 0.3333 - loss: 1.5867\n",
      "Epoch 30: val_loss did not improve from 1.61064\n",
      "\u001b[1m1/1\u001b[0m \u001b[32m━━━━━━━━━━━━━━━━━━━━\u001b[0m\u001b[37m\u001b[0m \u001b[1m0s\u001b[0m 151ms/step - accuracy: 0.3333 - loss: 1.5867 - val_accuracy: 0.0000e+00 - val_loss: 1.6458\n",
      "\u001b[1m1/1\u001b[0m \u001b[32m━━━━━━━━━━━━━━━━━━━━\u001b[0m\u001b[37m\u001b[0m \u001b[1m0s\u001b[0m 80ms/step - accuracy: 0.2000 - loss: 1.6094\n",
      "Test accuracy: 20.0%\n"
     ]
    }
   ],
   "source": [
    "# Utility for our sequence model.\n",
    "def get_sequence_model():\n",
    "    class_vocab = label_processor.get_vocabulary()\n",
    "\n",
    "    frame_features_input = keras.Input((MAX_SEQ_LENGTH, NUM_FEATURES))\n",
    "    mask_input = keras.Input((MAX_SEQ_LENGTH,), dtype=\"bool\")\n",
    "\n",
    "    # Refer to the following tutorial to understand the significance of using `mask`:\n",
    "    # https://keras.io/api/layers/recurrent_layers/gru/\n",
    "    x = keras.layers.GRU(16, return_sequences=True)(frame_features_input, mask=mask_input)\n",
    "    x = keras.layers.GRU(8)(x)\n",
    "    x = keras.layers.Dropout(0.4)(x)\n",
    "    x = keras.layers.Dense(8, activation=\"relu\")(x)\n",
    "    output = keras.layers.Dense(len(class_vocab), activation=\"softmax\")(x)\n",
    "\n",
    "    rnn_model = keras.Model([frame_features_input, mask_input], output)\n",
    "\n",
    "    rnn_model.compile(\n",
    "        loss=\"sparse_categorical_crossentropy\", optimizer=\"adam\", metrics=[\"accuracy\"]\n",
    "    )\n",
    "    return rnn_model\n",
    "\n",
    "EPOCHS = 30\n",
    "# Utility for running experiments.\n",
    "def run_experiment():\n",
    "    filepath = r\"C:\\Users\\ojask\\OneDrive\\Desktop\\NFT\\best_model.weights.h5\"\n",
    "    checkpoint = keras.callbacks.ModelCheckpoint(\n",
    "        filepath, save_weights_only=True, save_best_only=True, verbose=1\n",
    "    )\n",
    "\n",
    "    seq_model = get_sequence_model()\n",
    "    history = seq_model.fit(\n",
    "        [train_data[0], train_data[1]],\n",
    "        train_labels,\n",
    "        validation_split=0.3,\n",
    "        epochs=EPOCHS,\n",
    "        callbacks=[checkpoint],\n",
    "    )\n",
    "\n",
    "    seq_model.load_weights(filepath)\n",
    "    _, accuracy = seq_model.evaluate([test_data[0], test_data[1]], test_labels)\n",
    "    print(f\"Test accuracy: {round(accuracy * 100, 2)}%\")\n",
    "\n",
    "    return history, seq_model\n",
    "\n",
    "\n",
    "_, sequence_model = run_experiment()"
   ]
  },
  {
   "cell_type": "code",
   "execution_count": 20,
   "id": "4c1e96b9",
   "metadata": {},
   "outputs": [
    {
     "name": "stdout",
     "output_type": "stream",
     "text": [
      "Test video path: C:\\Users\\ojask\\OneDrive\\Desktop\\NFT\\train/Thumbs Down/video1\n",
      "\u001b[1m1/1\u001b[0m \u001b[32m━━━━━━━━━━━━━━━━━━━━\u001b[0m\u001b[37m\u001b[0m \u001b[1m1s\u001b[0m 837ms/step\n",
      "  STOP: 20.02%\n",
      "  Right Sweep: 20.02%\n",
      "  Left Sweep: 20.02%\n",
      "  Thumbs Up: 19.98%\n",
      "  Thumbs Down: 19.98%\n"
     ]
    }
   ],
   "source": [
    "def prepare_single_video(frames):\n",
    "    frames = frames[None, ...]\n",
    "    frame_mask = np.zeros(shape=(1, MAX_SEQ_LENGTH,), dtype=\"bool\")\n",
    "    frame_features = np.zeros(shape=(1, MAX_SEQ_LENGTH, NUM_FEATURES), dtype=\"float32\")\n",
    "\n",
    "    for i, batch in enumerate(frames):\n",
    "        video_length = batch.shape[0]\n",
    "        length = min(MAX_SEQ_LENGTH, video_length)\n",
    "        for j in range(length):\n",
    "            frame_features[i, j, :] = feature_extractor.predict(batch[None, j, :])\n",
    "        frame_mask[i, :length] = 1  # 1 = not masked, 0 = masked\n",
    "\n",
    "    return frame_features, frame_mask\n",
    "\n",
    "\n",
    "def sequence_prediction(path):\n",
    "    class_vocab = label_processor.get_vocabulary()\n",
    "\n",
    "    frames = load_video(os.path.join(\"test\", path))\n",
    "    frame_features, frame_mask = prepare_single_video(frames)\n",
    "    probabilities = sequence_model.predict([frame_features, frame_mask])[0]\n",
    "\n",
    "    for i in np.argsort(probabilities)[::-1]:\n",
    "        print(f\"  {class_vocab[i]}: {probabilities[i] * 100:5.2f}%\")\n",
    "    return frames\n",
    "\n",
    "test_video = np.random.choice(test_df[\"video_name\"].values.tolist())\n",
    "print(f\"Test video path: {test_video}\")\n",
    "\n",
    "test_frames = sequence_prediction(test_video)"
   ]
  },
  {
   "cell_type": "code",
   "execution_count": null,
   "id": "973c4353",
   "metadata": {},
   "outputs": [],
   "source": []
  }
 ],
 "metadata": {
  "kernelspec": {
   "display_name": "Python 3 (ipykernel)",
   "language": "python",
   "name": "python3"
  },
  "language_info": {
   "codemirror_mode": {
    "name": "ipython",
    "version": 3
   },
   "file_extension": ".py",
   "mimetype": "text/x-python",
   "name": "python",
   "nbconvert_exporter": "python",
   "pygments_lexer": "ipython3",
   "version": "3.11.5"
  }
 },
 "nbformat": 4,
 "nbformat_minor": 5
}
